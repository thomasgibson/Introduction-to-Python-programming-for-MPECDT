{
 "cells": [
  {
   "cell_type": "markdown",
   "metadata": {},
   "source": [
    "# Introduction to Python programming\n",
    "### [Gerard Gorman](http://www.imperial.ac.uk/people/g.gorman), [Christian Jacobs](http://www.imperial.ac.uk/people/c.jacobs10)"
   ]
  },
  {
   "cell_type": "markdown",
   "metadata": {},
   "source": [
    "# Lecture 3: Input data and error handling\n",
    "\n",
    "Learning objectives:\n",
    "\n",
    "* Learn how to read input data into a Python program.\n",
    "* Be able to catch run-time errors and handle them gracefully rather than the program simply failing."
   ]
  },
  {
   "cell_type": "markdown",
   "metadata": {},
   "source": [
    "Up to now you have only **hardcoded** input for your programs, i.e."
   ]
  },
  {
   "cell_type": "code",
   "execution_count": 1,
   "metadata": {
    "collapsed": false
   },
   "outputs": [],
   "source": [
    "v0 = 5    # Hardcoded value\n",
    "g = 9.81  # Hardcoded value\n",
    "t = 0.6   # Hardcoded value\n",
    "y = v0*t - 0.5*g*t**2"
   ]
  },
  {
   "cell_type": "markdown",
   "metadata": {},
   "source": [
    "While hardcoding values for variables such as $g$ might be fine if you are not planning to throw the ball on another planet, the initial velocity and time are values that a user would like to specify without having to edit the code (which would be both tedious and error-prone).\n",
    "\n",
    "While there are a number of different ways of getting input we are going to focus now on prompting the user for some input, and then processing that input so that we check that it is valid and usable. Let's recycle our temperature conversion example, this time taking the Celsius value from the user input:"
   ]
  },
  {
   "cell_type": "code",
   "execution_count": 1,
   "metadata": {
    "collapsed": false
   },
   "outputs": [
    {
     "name": "stdout",
     "output_type": "stream",
     "text": [
      "C=? 4\n",
      "39.2\n"
     ]
    }
   ],
   "source": [
    "C = raw_input(\"C=? \")          # C becomes a string\n",
    "C = float(C)                   # Convert this string into a float\n",
    "F = (9./5)*C + 32\n",
    "print F"
   ]
  },
  {
   "cell_type": "markdown",
   "metadata": {},
   "source": [
    "Another simple example: Print the n first even numbers."
   ]
  },
  {
   "cell_type": "code",
   "execution_count": 6,
   "metadata": {
    "collapsed": false
   },
   "outputs": [
    {
     "name": "stdout",
     "output_type": "stream",
     "text": [
      "n=? 3\n",
      "2\n",
      "4\n",
      "6\n"
     ]
    }
   ],
   "source": [
    "n = int(raw_input(\"n=? \"))\n",
    "for i in range(2, 2*n+1, 2):\n",
    "    print i"
   ]
  },
  {
   "cell_type": "markdown",
   "metadata": {},
   "source": [
    "At this point you know enough to write the classic game Battleship. Rather than start from scratch I have put an example below. Organise yourselves into pairs and:\n",
    "\n",
    "* Play a couple of games\n",
    "* Change the code so that it is on a 10x10 grid.\n",
    "* Rather than having just one ship that is one square in size, make it some random length between 1-6 (make sure not to go off the end of the world!)"
   ]
  },
  {
   "cell_type": "code",
   "execution_count": 8,
   "metadata": {
    "collapsed": false
   },
   "outputs": [
    {
     "name": "stdout",
     "output_type": "stream",
     "text": [
      "Let's play Battleship!\n",
      "O O O O O\n",
      "O O O O O\n",
      "O O O O O\n",
      "O O O O O\n",
      "O O O O O\n",
      "2\n",
      "1\n",
      "Guess Row:1\n",
      "Guess Col:2\n",
      "You missed my battleship!\n",
      "1\n",
      "O O O O O\n",
      "O O X O O\n",
      "O O O O O\n",
      "O O O O O\n",
      "O O O O O\n",
      "Guess Row:4\n",
      "Guess Col:4\n",
      "You missed my battleship!\n",
      "2\n",
      "O O O O O\n",
      "O O X O O\n",
      "O O O O O\n",
      "O O O O O\n",
      "O O O O X\n",
      "Guess Row:2\n",
      "Guess Col:3\n",
      "You missed my battleship!\n",
      "3\n",
      "O O O O O\n",
      "O O X O O\n",
      "O O O X O\n",
      "O O O O O\n",
      "O O O O X\n",
      "Guess Row:2\n",
      "Guess Col:2\n",
      "O O O O O\n",
      "O O X O O\n",
      "O O X X O\n",
      "O O O O O\n",
      "O O O O X\n",
      "Game Over\n",
      "My ship was here: [2][1]\n"
     ]
    }
   ],
   "source": [
    "import random\n",
    "\n",
    "board = []\n",
    "\n",
    "for x in range(0,5):\n",
    "  board.append([\"O\"] * 5)\n",
    "\n",
    "def print_board(board):\n",
    "  for row in board:\n",
    "    print \" \".join(row)\n",
    "\n",
    "print \"Let's play Battleship!\"\n",
    "print_board(board)\n",
    "\n",
    "def random_row(board):\n",
    "  return random.randint(0,len(board)-1)\n",
    "\n",
    "def random_col(board):\n",
    "  return random.randint(0,len(board[0])-1)\n",
    "\n",
    "ship_row = random_row(board)\n",
    "ship_col = random_col(board)\n",
    "print ship_row\n",
    "print ship_col\n",
    "\n",
    "for turn in range(4):\n",
    "\tguess_row = int(raw_input(\"Guess Row:\"))\n",
    "\tguess_col = int(raw_input(\"Guess Col:\"))\n",
    "\t\n",
    "\tif guess_row == ship_row and guess_col == ship_col:\n",
    "\t  print \"Congratulations! You sunk my battleship!\"\n",
    "\t  break\n",
    "\telse:\n",
    "\t\tif turn == 3:\n",
    "\t\t\tboard[guess_row][guess_col] = \"X\"\n",
    "\t\t\tprint_board(board)\n",
    "\t\t\tprint \"Game Over\"\n",
    "\t\t\tprint \"My ship was here: [\" + str(ship_row) + \"][\" + str(ship_col) + \"]\"\n",
    "\t\telse:\t\t\t\n",
    "\t\t\tif (guess_row < 0 or guess_row > 4) or (guess_col < 0 or guess_col > 4):\n",
    "\t\t\t\tprint \"Oops, that's not even in the ocean.\"\n",
    "\t\t\telif(board[guess_row][guess_col] == \"X\"):\n",
    "\t\t\t\tprint \"You guessed that one already.\"\n",
    "\t\t\telse:\n",
    "\t\t\t\tprint \"You missed my battleship!\"\n",
    "\t\t\t\tboard[guess_row][guess_col] = \"X\"\n",
    "\t\t\tprint (turn + 1)\n",
    "\t\t\tprint_board(board)"
   ]
  },
  {
   "cell_type": "markdown",
   "metadata": {},
   "source": [
    "## <span style=\"color:blue\">Exercise 1: Make an interactive program</span>\n",
    "Make a program that (i) asks the user for a temperature in Fahrenheit degrees and reads the number; (ii) computes the corresponding temperature in Celsius degrees; and (iii) prints out the temperature in the Celsius scale."
   ]
  },
  {
   "cell_type": "code",
   "execution_count": 3,
   "metadata": {
    "collapsed": false
   },
   "outputs": [
    {
     "name": "stdout",
     "output_type": "stream",
     "text": [
      "F=? 212\n",
      "100.0\n"
     ]
    }
   ],
   "source": [
    "F = raw_input(\"F=? \")          # C becomes a string\n",
    "F = float(F)                   # Convert this string into a float\n",
    "C = 5./9*(F - 32)\n",
    "print C"
   ]
  },
  {
   "cell_type": "markdown",
   "metadata": {},
   "source": [
    "## <span style=\"color:blue\">Exercise 2: Prompt the user for input to a formula</span>\n",
    "Consider the simplest program for evaluting the formula $y(t) = v_0 t − 0.5gt^2$:"
   ]
  },
  {
   "cell_type": "code",
   "execution_count": 6,
   "metadata": {
    "collapsed": false
   },
   "outputs": [
    {
     "name": "stdout",
     "output_type": "stream",
     "text": [
      "0.0342\n",
      "v0=? 3\n",
      "t=? 0.6\n",
      "0.0342\n"
     ]
    }
   ],
   "source": [
    "v0 = 3; g = 9.81; t = 0.6\n",
    "y = v0*t - 0.5*g*t**2\n",
    "print y\n",
    "\n",
    "## Modified program\n",
    "v0 = raw_input(\"v0=? \"); g = 9.81; t = raw_input(\"t=? \")\n",
    "v0 = float(v0); t = float(t)\n",
    "y = v0*t - 0.5*g*t**2\n",
    "print y"
   ]
  },
  {
   "cell_type": "markdown",
   "metadata": {},
   "source": [
    "Modify this code so that the program asks the user questions *t=?* and *v0=?*, and then gets *t* and *v0* from the user's input through the keyboard."
   ]
  },
  {
   "cell_type": "markdown",
   "metadata": {},
   "source": [
    "## Handling errors in input\n",
    "I am quite sure that during the course of the game above you encountered some run-time errors. Perhaps you specified an index that was out of bounds, or perhaps you provided text as input when a number was expected. In real life, users make mistakes all the time. For this reason it is important to understand where errors may arise in a program and add code to catch these errors and make the program react in some sensible way. You can already see that errors can sometimes be very confusing to the user. Good error handling can be used to help the user understand what mistake was made and suggest a solution. In some cases you can even guess what was intended and correct automatically.\n",
    "\n",
    "Let's consider a simple example where we make a reference out of bounds in a list:"
   ]
  },
  {
   "cell_type": "code",
   "execution_count": 7,
   "metadata": {
    "collapsed": false
   },
   "outputs": [
    {
     "ename": "IndexError",
     "evalue": "tuple index out of range",
     "output_type": "error",
     "traceback": [
      "\u001b[1;31m---------------------------------------------------------------------------\u001b[0m",
      "\u001b[1;31mIndexError\u001b[0m                                Traceback (most recent call last)",
      "\u001b[1;32m<ipython-input-7-d486cfda2ddb>\u001b[0m in \u001b[0;36m<module>\u001b[1;34m()\u001b[0m\n\u001b[0;32m      1\u001b[0m \u001b[0mplaces_i_would_rather_be\u001b[0m \u001b[1;33m=\u001b[0m \u001b[1;33m(\u001b[0m\u001b[1;34m\"pub\"\u001b[0m\u001b[1;33m,\u001b[0m \u001b[1;34m\"Fernanda de Noronha\"\u001b[0m\u001b[1;33m,\u001b[0m \u001b[1;34m\"Dolomites\"\u001b[0m\u001b[1;33m,\u001b[0m \u001b[1;34m\"anywhere but here\"\u001b[0m\u001b[1;33m)\u001b[0m\u001b[1;33m\u001b[0m\u001b[0m\n\u001b[0;32m      2\u001b[0m \u001b[0moption\u001b[0m \u001b[1;33m=\u001b[0m \u001b[1;36m4\u001b[0m \u001b[1;31m# lets assume that the user has given the input option 4\u001b[0m\u001b[1;33m\u001b[0m\u001b[0m\n\u001b[1;32m----> 3\u001b[1;33m \u001b[1;32mprint\u001b[0m \u001b[0mplaces_i_would_rather_be\u001b[0m\u001b[1;33m[\u001b[0m\u001b[0moption\u001b[0m\u001b[1;33m]\u001b[0m\u001b[1;33m\u001b[0m\u001b[0m\n\u001b[0m",
      "\u001b[1;31mIndexError\u001b[0m: tuple index out of range"
     ]
    }
   ],
   "source": [
    "places_i_would_rather_be = (\"pub\", \"Fernanda de Noronha\", \"Dolomites\", \"anywhere but here\")\n",
    "option = 4 # lets assume that the user has given the input option 4\n",
    "print places_i_would_rather_be[option]"
   ]
  },
  {
   "cell_type": "markdown",
   "metadata": {},
   "source": [
    "Here we can see we have an **IndexError** (i.e. a reference out of bounds) with the clarification that it is the **tuple index out of range**.\n",
    "\n",
    "The general way we deal with this issue in Python (and in many other programming languages) is to try to do what we indend to, and if it fails, we recover from the error. This is implemented using the *try-except* block:"
   ]
  },
  {
   "cell_type": "raw",
   "metadata": {},
   "source": [
    "try:\n",
    "    <statements we indend to do>\n",
    "except:\n",
    "    <statements for handling errors>"
   ]
  },
  {
   "cell_type": "markdown",
   "metadata": {},
   "source": [
    "If something goes wrong in the **try** block, Python raises an **exception** and the execution jumps immediately to the **except** block. Let's try an example:"
   ]
  },
  {
   "cell_type": "code",
   "execution_count": 8,
   "metadata": {
    "collapsed": false
   },
   "outputs": [
    {
     "name": "stdout",
     "output_type": "stream",
     "text": [
      "Where would you rather be (specify option 0-3)?\n",
      "0. Pub\n",
      "1. Fernanda de Noronha\n",
      "2. Dolomites\n",
      "3. Anywhere but here\n",
      "1123\n",
      "ERROR: You need to specify an integer\n"
     ]
    },
    {
     "ename": "SystemExit",
     "evalue": "1",
     "output_type": "error",
     "traceback": [
      "An exception has occurred, use %tb to see the full traceback.\n",
      "\u001b[1;31mSystemExit\u001b[0m\u001b[1;31m:\u001b[0m 1\n"
     ]
    },
    {
     "name": "stderr",
     "output_type": "stream",
     "text": [
      "To exit: use 'exit', 'quit', or Ctrl-D.\n"
     ]
    }
   ],
   "source": [
    "import sys\n",
    "places_i_would_rather_be = (\"Pub\", \"Fernanda de Noronha\", \"Dolomites\", \"Anywhere but here\")\n",
    "glib_reply = (\"Don't drink and code.\", \"Rubbish broadband - couldn't stream Lost.\", \n",
    "                \"My first ski lesson was watching YouTube (don't try).\", \"Ah don't go...your great craic.\")\n",
    "\n",
    "msg = \"\"\"Where would you rather be (specify option 0-3)?\n",
    "0. %s\n",
    "1. %s\n",
    "2. %s\n",
    "3. %s\n",
    "\"\"\" % places_i_would_rather_be\n",
    "\n",
    "try:\n",
    "    option = int(raw_input(msg))\n",
    "    print glib_reply[option]\n",
    "except:\n",
    "    print \"ERROR: You need to specify an integer\"\n",
    "    sys.exit(1)"
   ]
  },
  {
   "cell_type": "markdown",
   "metadata": {},
   "source": [
    "In the above example the expected input is an integer. If the user types a string, e.g. \"Pub\", then a **ValueError** is raised, and the code except block is executed.\n",
    "\n",
    "However, what happens if you type 4, or 100? In that case it is a valid integer, but then it is used as an index to the tuple *glib\\_reply* it clearly references an element that does not exist. This results in an **IndexError**. But the error message we get back is still *ERROR: You need to specify an integer*. So, how can we make our error handling more intellegent?\n",
    "\n",
    "Well, there are two solutions here. We can either break up our *try* block so we try the integer conversion and the glib reply separately, i.e.:"
   ]
  },
  {
   "cell_type": "code",
   "execution_count": 13,
   "metadata": {
    "collapsed": false
   },
   "outputs": [
    {
     "name": "stdout",
     "output_type": "stream",
     "text": [
      "Where would you rather be (specify option 0-3)?\n",
      "0. Pub\n",
      "1. Fernanda de Noronha\n",
      "2. Dolomites\n",
      "3. Anywhere but here\n",
      "4\n"
     ]
    },
    {
     "ename": "SystemExit",
     "evalue": "1",
     "output_type": "error",
     "traceback": [
      "An exception has occurred, use %tb to see the full traceback.\n",
      "\u001b[1;31mSystemExit\u001b[0m\u001b[1;31m:\u001b[0m 1\n"
     ]
    },
    {
     "name": "stdout",
     "output_type": "stream",
     "text": [
      "ERROR: You need to specify an integer between in the range 0-3.\n"
     ]
    },
    {
     "name": "stderr",
     "output_type": "stream",
     "text": [
      "To exit: use 'exit', 'quit', or Ctrl-D.\n"
     ]
    }
   ],
   "source": [
    "try:\n",
    "    option = int(raw_input(msg))\n",
    "except:\n",
    "    print \"ERROR: You need to specify an integer\"\n",
    "    sys.exit(1)\n",
    "try:\n",
    "    print glib_reply[option]\n",
    "except:\n",
    "    print \"ERROR: You need to specify an integer between in the range 0-3.\"\n",
    "    sys.exit(1)"
   ]
  },
  {
   "cell_type": "markdown",
   "metadata": {},
   "source": [
    "However, an even better solution is to create an *except* block that is specialised for a specific error type, i.e.:"
   ]
  },
  {
   "cell_type": "code",
   "execution_count": 14,
   "metadata": {
    "collapsed": false
   },
   "outputs": [
    {
     "name": "stdout",
     "output_type": "stream",
     "text": [
      "Where would you rather be (specify option 0-3)?\n",
      "0. Pub\n",
      "1. Fernanda de Noronha\n",
      "2. Dolomites\n",
      "3. Anywhere but here\n",
      "Pub\n"
     ]
    },
    {
     "ename": "SystemExit",
     "evalue": "1",
     "output_type": "error",
     "traceback": [
      "An exception has occurred, use %tb to see the full traceback.\n",
      "\u001b[1;31mSystemExit\u001b[0m\u001b[1;31m:\u001b[0m 1\n"
     ]
    },
    {
     "name": "stdout",
     "output_type": "stream",
     "text": [
      "ERROR: You need to specify an integer\n"
     ]
    },
    {
     "name": "stderr",
     "output_type": "stream",
     "text": [
      "To exit: use 'exit', 'quit', or Ctrl-D.\n"
     ]
    }
   ],
   "source": [
    "try:\n",
    "    option = int(raw_input(msg))\n",
    "    print glib_reply[option]\n",
    "except ValueError:\n",
    "    print \"ERROR: You need to specify an integer\"\n",
    "    sys.exit(1)\n",
    "except IndexError:\n",
    "    print \"ERROR: You need to specify an integer between in the range 0-3.\"\n",
    "    sys.exit(1)"
   ]
  },
  {
   "cell_type": "markdown",
   "metadata": {},
   "source": [
    "This is still not perfect. What happens if you enter -1? Recall that negative indices traverse the list from the end to the beginning. Also, it is a bit messy that we have to print out the message and then call sys.exit to abort the program. We can deal with this issue more elegently if we **raise** our own error:"
   ]
  },
  {
   "cell_type": "code",
   "execution_count": 16,
   "metadata": {
    "collapsed": false
   },
   "outputs": [
    {
     "name": "stdout",
     "output_type": "stream",
     "text": [
      "Where would you rather be (specify option 0-3)?\n",
      "0. Pub\n",
      "1. Fernanda de Noronha\n",
      "2. Dolomites\n",
      "3. Anywhere but here\n",
      "-1\n"
     ]
    },
    {
     "ename": "ValueError",
     "evalue": "You need to specify an integer value.",
     "output_type": "error",
     "traceback": [
      "\u001b[1;31m---------------------------------------------------------------------------\u001b[0m\n\u001b[1;31mValueError\u001b[0m                                Traceback (most recent call last)",
      "\u001b[1;32m<ipython-input-16-b2a90e4c160e>\u001b[0m in \u001b[0;36m<module>\u001b[1;34m()\u001b[0m\n\u001b[0;32m      5\u001b[0m     \u001b[1;32mprint\u001b[0m \u001b[0mglib_reply\u001b[0m\u001b[1;33m[\u001b[0m\u001b[0moption\u001b[0m\u001b[1;33m]\u001b[0m\u001b[1;33m\u001b[0m\u001b[0m\n\u001b[0;32m      6\u001b[0m \u001b[1;32mexcept\u001b[0m \u001b[0mValueError\u001b[0m\u001b[1;33m:\u001b[0m\u001b[1;33m\u001b[0m\u001b[0m\n\u001b[1;32m----> 7\u001b[1;33m     \u001b[1;32mraise\u001b[0m \u001b[0mValueError\u001b[0m\u001b[1;33m(\u001b[0m\u001b[1;34m\"You need to specify an integer value.\"\u001b[0m\u001b[1;33m)\u001b[0m\u001b[1;33m\u001b[0m\u001b[0m\n\u001b[0m\u001b[0;32m      8\u001b[0m \u001b[1;32mexcept\u001b[0m \u001b[0mIndexError\u001b[0m\u001b[1;33m:\u001b[0m\u001b[1;33m\u001b[0m\u001b[0m\n\u001b[0;32m      9\u001b[0m     \u001b[1;32mraise\u001b[0m \u001b[0mIndexError\u001b[0m\u001b[1;33m(\u001b[0m\u001b[1;34m\"You need to specify an integer between in the range 0-3.\"\u001b[0m\u001b[1;33m)\u001b[0m\u001b[1;33m\u001b[0m\u001b[0m\n",
      "\u001b[1;31mValueError\u001b[0m: You need to specify an integer value."
     ]
    }
   ],
   "source": [
    "try:\n",
    "    option = int(raw_input(msg))\n",
    "    if not (0 <= option <= 3):\n",
    "        raise ValueError\n",
    "    print glib_reply[option]\n",
    "except ValueError:\n",
    "    raise ValueError(\"You need to specify an integer value.\")\n",
    "except IndexError:\n",
    "    raise IndexError(\"You need to specify an integer between in the range 0-3.\")"
   ]
  },
  {
   "cell_type": "markdown",
   "metadata": {},
   "source": [
    "## <span style=\"color:blue\">Exercise 3: Use exceptions</span>\n",
    "Extend the program from Exercise 1 with a try-except block to handle the potential error that the user enters nothing (or invalid data such as a letter) for the Fahrenheit temperature."
   ]
  },
  {
   "cell_type": "code",
   "execution_count": null,
   "metadata": {
    "collapsed": false
   },
   "outputs": [],
   "source": []
  },
  {
   "cell_type": "markdown",
   "metadata": {},
   "source": [
    "## <span style=\"color:blue\">Exercise 4a: Make the program from Exercise 2 safer</span>\n",
    "Extend the program from Exercise 2 to include exception handling such that missing (or invalid) values for *t* and *v0* are detected. In the *except ValueError* block, use the raw_input function to ask the user for input data once more."
   ]
  },
  {
   "cell_type": "code",
   "execution_count": null,
   "metadata": {
    "collapsed": false
   },
   "outputs": [],
   "source": []
  },
  {
   "cell_type": "markdown",
   "metadata": {},
   "source": [
    "## <span style=\"color:blue\">Exercise 4b: Test more in the program</span>\n",
    "Test if the *t* value read in the program from the previous exercise lies between $0$ and ${2v_0}/{g}$. If not, print a message and abort execution."
   ]
  },
  {
   "cell_type": "code",
   "execution_count": null,
   "metadata": {
    "collapsed": false
   },
   "outputs": [],
   "source": []
  },
  {
   "cell_type": "markdown",
   "metadata": {},
   "source": [
    "## <span style=\"color:blue\">Exercise 4c: Raising an exception</span>\n",
    "Instead of printing an error message and aborting the program explicitly, raise a *ValueError* exception in the *if* test on legal *t* values in the program from the previous exercise. Include the legal interval for *t* in the exception message."
   ]
  },
  {
   "cell_type": "code",
   "execution_count": null,
   "metadata": {
    "collapsed": false
   },
   "outputs": [],
   "source": []
  },
  {
   "cell_type": "markdown",
   "metadata": {},
   "source": [
    "## <span style=\"color:blue\">Exercise 5: Compute the distance it takes to stop a car</span>\n",
    "A car driver, driving at velocity $v_0$, suddenly puts on the brake. What braking distance $d$ is needed to stop the car? One can derive, from basic physics, that</br>\n",
    "$d = 0.5\\frac{v_0^2}{\\mu g}$</br>\n",
    "Make a program for computing $d$ using the above formula when the initial car velocity $v_0$ and the friction coefficient $\\mu$ are provided via the raw_input function. Run the\n",
    "program for two cases: $v_0$ = 120 and $v_0$ = 50 km/h, both with $\\mu$ = 0.3 ($\\mu$ is dimensionless). (Remember to convert the velocity from km/h to m/s before inserting the value in the formula!)"
   ]
  },
  {
   "cell_type": "code",
   "execution_count": null,
   "metadata": {
    "collapsed": false
   },
   "outputs": [],
   "source": []
  }
 ],
 "metadata": {
  "kernelspec": {
   "display_name": "Python 2",
   "language": "python",
   "name": "python2"
  },
  "language_info": {
   "codemirror_mode": {
    "name": "ipython",
    "version": 2
   },
   "file_extension": ".py",
   "mimetype": "text/x-python",
   "name": "python",
   "nbconvert_exporter": "python",
   "pygments_lexer": "ipython2",
   "version": "2.7.6"
  }
 },
 "nbformat": 4,
 "nbformat_minor": 0
}
