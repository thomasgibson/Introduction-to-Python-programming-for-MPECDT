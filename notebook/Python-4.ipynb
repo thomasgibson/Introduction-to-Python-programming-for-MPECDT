{
 "cells": [
  {
   "cell_type": "markdown",
   "metadata": {},
   "source": [
    "# Introduction to Python programming for MPECDT\n",
    "### [Gerard Gorman](http://www.imperial.ac.uk/people/g.gorman), [Christian Jacobs](http://www.imperial.ac.uk/people/c.jacobs10)\n",
    "### Modified for MPECDT by [David Ham](http://www.imperial.ac.uk/people/david.ham)"
   ]
  },
  {
   "cell_type": "markdown",
   "metadata": {},
   "source": [
    "# Lecture 4: Array computing and curve plotting\n",
    "\n",
    "Learning objectives: \n",
    "\n",
    "* Learn how to compute using arrays, *i.e.* vectorise code.\n",
    "* Learn how to generate 2D graphs."
   ]
  },
  {
   "cell_type": "markdown",
   "metadata": {},
   "source": [
    "## Vectors and arrays\n",
    "\n",
    "You have known **vectors** since high school mathematics, *e.g.*, point $(x,y)$ in the plane, point $(x,y,z)$ in space. In general, we can describe a vector $v$ as an $n$-tuple of numbers: $v=(v_0,\\ldots,v_{n-1})$. One way to store vectors in Python is by using *lists*: $v_i$ is stored as *v[i]*."
   ]
  },
  {
   "cell_type": "markdown",
   "metadata": {},
   "source": [
    "**Arrays** are a generalization of vectors where we can have multiple indices: $A_{i,j}$, $A_{i,j,k}$. In Python code this is represented as a nested list (see previous lecture), accessed as *A[i][j]*, *A[i][j][k]*.\n",
    "\n",
    "Example: table of numbers, one index for the row, one for the column\n",
    "$$\n",
    "\\left\\lbrack\\begin{array}{cccc}\n",
    "0 & 12 & -1 & 5q\n",
    "-1 & -1 & -1 & 0\\cr\n",
    "11 & 5 & 5 & -2\n",
    "\\end{array}\\right\\rbrack\n",
    "\\hspace{1cm}\n",
    "A =\n",
    "\\left\\lbrack\\begin{array}{ccc}\n",
    "A_{0,0} & \\cdots &  A_{0,n-1}\\cr\n",
    "\\vdots & \\ddots &  \\vdots\\cr\n",
    "A_{m-1,0} & \\cdots & A_{m-1,n-1}\n",
    "\\end{array}\\right\\rbrack\n",
    "$$\n",
    "The number of indices in an array is the *rank* or *number of dimensions*. Using these terms, a vector can be described as a one-dimensional array, or rank 1 array.\n",
    "\n",
    "In practice, we use Numerical Python arrays instead of lists to represent mathematical arrays because it is **much** faster for large arrays."
   ]
  },
  {
   "cell_type": "markdown",
   "metadata": {},
   "source": [
    "Let's consider an example where we store $(x,y)$ points along a curve in Python lists and *Numerical Python* (*NumPy*) arrays:"
   ]
  },
  {
   "cell_type": "code",
   "execution_count": 5,
   "metadata": {
    "collapsed": false
   },
   "outputs": [],
   "source": [
    "# Sample function\n",
    "def f(x):\n",
    "    return x**3\n",
    "\n",
    "# Generate n points in [0,1]\n",
    "n = 5\n",
    "dx = 1.0/(n-1) # x spacing\n",
    "\n",
    "xlist = [i*dx for i in range(n)] # Python lists\n",
    "ylist = [f(x) for x in xlist]\n",
    "\n",
    "# Turn these Python lists into Numerical Python (NumPy) arrays:\n",
    "from numpy import *\n",
    "x2 = array(xlist)\n",
    "y2 = array(ylist)"
   ]
  },
  {
   "cell_type": "markdown",
   "metadata": {},
   "source": [
    "Instead of first making lists with $x$ and $y = f (x)$ data, and then turning lists into arrays, we can make NumPy arrays\n",
    "directly:"
   ]
  },
  {
   "cell_type": "code",
   "execution_count": 2,
   "metadata": {
    "collapsed": false
   },
   "outputs": [],
   "source": [
    "n = 5                     # number of points\n",
    "x2 = linspace(0, 1, n)    # generates n points between 0 and 1\n",
    "y2 = zeros(n)             # n zeros (float data type by default)\n",
    "for i in xrange(n):     \n",
    "    y2[i] = f(x2[i])"
   ]
  },
  {
   "cell_type": "markdown",
   "metadata": {},
   "source": [
    "*xrange* is similar to range but faster. Especially for large $n$ (*xrange* does not explicitly build a list of integers, xrange just lets you loop over the values).\n",
    "\n",
    "List comprehensions create lists, not arrays, but we can do:"
   ]
  },
  {
   "cell_type": "code",
   "execution_count": 3,
   "metadata": {
    "collapsed": false
   },
   "outputs": [],
   "source": [
    "y2 = array([f(xi) for xi in x2]) # list -> array"
   ]
  },
  {
   "cell_type": "markdown",
   "metadata": {},
   "source": [
    "### When and where to use NumPy arrays\n",
    "\n",
    "* Python lists can hold any sequence of any Python objects, however, NumPy arrays can only hold objects of the same type.\n",
    "* Arrays are most efficient when the elements are of basic number types (*float*, *int*, *complex*).\n",
    "* In that case, arrays are stored efficiently in the computer's memory and we can compute very efficiently with the array elements.\n",
    "* Mathematical operations on whole arrays can be done without loops in Python. For example,"
   ]
  },
  {
   "cell_type": "code",
   "execution_count": 4,
   "metadata": {
    "collapsed": false
   },
   "outputs": [],
   "source": [
    "x = linspace(0, 2, 10001)\n",
    "y = zeros(10001)\n",
    "for i in xrange(len(x)):\n",
    "    y[i] = sin(x[i])"
   ]
  },
  {
   "cell_type": "markdown",
   "metadata": {},
   "source": [
    "can be coded as"
   ]
  },
  {
   "cell_type": "code",
   "execution_count": 5,
   "metadata": {
    "collapsed": false
   },
   "outputs": [],
   "source": [
    "y = sin(x)"
   ]
  },
  {
   "cell_type": "markdown",
   "metadata": {},
   "source": [
    "In the latter case the loop over all elements is now performed in a very efficient C function.\n",
    "\n",
    "Operations on whole arrays, instead of using Python *for*-loops, is called vectorization and is a very **convenient**, **efficient** and therefore important programming technique to master.\n",
    "\n",
    "Let's consider a simple vectorisation example: a loop to compute $x$ coordinates (*x2*) and $y=f(x)$ coordinates (*y2*) along a function curve:"
   ]
  },
  {
   "cell_type": "code",
   "execution_count": 6,
   "metadata": {
    "collapsed": false
   },
   "outputs": [],
   "source": [
    "x2 = linspace(0, 1, n)\n",
    "y2 = zeros(n)\n",
    "for i in xrange(n):\n",
    "    y2[i] = f(x2[i])"
   ]
  },
  {
   "cell_type": "markdown",
   "metadata": {},
   "source": [
    "This computation can be replaced by:"
   ]
  },
  {
   "cell_type": "code",
   "execution_count": 7,
   "metadata": {
    "collapsed": false
   },
   "outputs": [],
   "source": [
    "x2 = linspace(0, 1, n)\n",
    "y2 = f(x2)"
   ]
  },
  {
   "cell_type": "markdown",
   "metadata": {},
   "source": [
    "The advantage of this approach is:\n",
    "\n",
    "* There is no need to allocate space for y2 (via the NumPy *zeros* function).\n",
    "* There is no need for a loop.\n",
    "* It is *much* faster."
   ]
  },
  {
   "cell_type": "markdown",
   "metadata": {},
   "source": [
    "##How vectorised functions work\n",
    "Consider the function"
   ]
  },
  {
   "cell_type": "code",
   "execution_count": 8,
   "metadata": {
    "collapsed": false
   },
   "outputs": [],
   "source": [
    "def f(x):\n",
    "    return x**3"
   ]
  },
  {
   "cell_type": "markdown",
   "metadata": {},
   "source": [
    "$f(x)$ is intended for a number $x$, *i.e.* a *scalar*. So what happens when we call *f(x2)*, where *x2* is an NumPy array? **The function simply evaluates $x^3$ for an array x**. NumPy supports arithmetic operations on arrays, which correspond to the equivalent operations on each element, *e.g.*:"
   ]
  },
  {
   "cell_type": "code",
   "execution_count": 9,
   "metadata": {
    "collapsed": false
   },
   "outputs": [
    {
     "data": {
      "text/plain": [
       "array([  0.00000000e+00,   6.66600003e-05,   1.33306669e-04, ...,\n",
       "         2.45252956e-01,   2.45252960e-01,   2.45252961e-01])"
      ]
     },
     "execution_count": 9,
     "metadata": {},
     "output_type": "execute_result"
    }
   ],
   "source": [
    "x**3                # x[i]**3 forr all i\n",
    "cos(x)              # cos(x[i]) for all i\n",
    "x**3 + x*cos(x)     # x[i]**3 + x[i]*cos(x[i]) for all i\n",
    "x/3*exp(-x*0.5)     # x[i]/3*exp(-x[i]*0.5) for all i "
   ]
  },
  {
   "cell_type": "markdown",
   "metadata": {},
   "source": [
    "In each of these cases a highly optimised C function is actually called to evaluate the expression. In this example, the *cos* function called for an *array* is imported from *numpy* rathar than from the *math* module which only acts on scalars.\n",
    "\n",
    "Notes:\n",
    "\n",
    "* Functions that can operate on arrays are called **vectorized functions**.\n",
    "* Vectorization is the process of turning a non-vectorized expression/algorithm into a vectorized expression/algorithm.\n",
    "* Mathematical functions in Python automatically work for both scalar and array (vector) arguments, *i.e.* no vectorization is needed by the programmer.\n"
   ]
  },
  {
   "cell_type": "markdown",
   "metadata": {},
   "source": [
    "###Watch out for references Vs. copies of arrays!\n",
    "Consider this code:"
   ]
  },
  {
   "cell_type": "code",
   "execution_count": 10,
   "metadata": {
    "collapsed": false
   },
   "outputs": [
    {
     "name": "stdout",
     "output_type": "stream",
     "text": [
      "42.0\n"
     ]
    }
   ],
   "source": [
    "a=x\n",
    "a[-1] = 42\n",
    "print x[-1]"
   ]
  },
  {
   "cell_type": "markdown",
   "metadata": {},
   "source": [
    "Notice what happened here - we changed a value in *a* but the corresponding value in *x* was also changed! This is because *a* refers to the same array as *x*. If you really want a seperate copy of *x* then we have to make an explicit copy:"
   ]
  },
  {
   "cell_type": "code",
   "execution_count": 11,
   "metadata": {
    "collapsed": false
   },
   "outputs": [],
   "source": [
    "a = x.copy()"
   ]
  },
  {
   "cell_type": "markdown",
   "metadata": {},
   "source": [
    "## <span style=\"color:blue\">Exercise 1: Fill lists and arrays with function values</span>\n",
    "A function with many applications in science is defined as:</br></br>\n",
    "$h(x) = \\frac{1}{\\sqrt{2\\pi}}\\exp(-0.5x^2)$</br></br>\n",
    "\n",
    "* Fill two lists *xlist* and *hlist* with *x* and *h(x)* values for uniformly spaced *x* coordinates in [−4, 4]. You may adapt the first example in the lecture 4 notes.\n",
    "\n",
    "* Fill two arrays *x* and *y* with *x* and *h(x)* values, respectively, where *h(x)* is defined above. Let the *x* values be uniformly spaced in [−4, 4]. Use list comprehensions to create the *x* and *y* arrays.\n",
    "\n",
    "* Vectorize the code by creating the *x* values using the *linspace* function and by evaluating *h(x)* for an array argument."
   ]
  },
  {
   "cell_type": "code",
   "execution_count": 2,
   "metadata": {
    "collapsed": false
   },
   "outputs": [
    {
     "name": "stdout",
     "output_type": "stream",
     "text": [
      "[-4. -3. -2. -1.  0.  1.  2.  3.  4.] [  1.33830226e-04   4.43184841e-03   5.39909665e-02   2.41970725e-01\n",
      "   3.98942280e-01   2.41970725e-01   5.39909665e-02   4.43184841e-03\n",
      "   1.33830226e-04]\n",
      "[-4. -3. -2. -1.  0.  1.  2.  3.  4.] [  1.33830226e-04   4.43184841e-03   5.39909665e-02   2.41970725e-01\n",
      "   3.98942280e-01   2.41970725e-01   5.39909665e-02   4.43184841e-03\n",
      "   1.33830226e-04]\n",
      "[  1.33830226e-04   4.43184841e-03   5.39909665e-02   2.41970725e-01\n",
      "   3.98942280e-01   2.41970725e-01   5.39909665e-02   4.43184841e-03\n",
      "   1.33830226e-04]\n"
     ]
    }
   ],
   "source": [
    "from numpy import *\n",
    "\n",
    "def h(x):\n",
    "    return (1./sqrt(2*pi))*exp(-0.5*x**2)\n",
    "\n",
    "xlist = linspace(-4,4,9)\n",
    "hlist1 = zeros(9)\n",
    "c=0\n",
    "for i in xlist: # Using a for loop\n",
    "    hlist1[c] = h(i)\n",
    "    c = c+1\n",
    "print xlist, hlist1\n",
    "\n",
    "hlist2 = array([h(xi) for xi in xlist]) # List comprehension\n",
    "\n",
    "print xlist, hlist2\n",
    "\n",
    "hlist3 = h(xlist) # Vectorized form\n",
    "\n",
    "print hlist3"
   ]
  },
  {
   "cell_type": "markdown",
   "metadata": {},
   "source": [
    "## <span style=\"color:blue\">Exercise 2: Apply a function to a vector</span>\n",
    "Given a vector $v = (2, 3, −1)$ and a function $f(x) = x^3 + xe^x + 1$, apply $f$ to each element in $v$. Then calculate $f(v)$ as $v^3 + ve^v + 1$ using vector computing rules. Show that the two results are equal."
   ]
  },
  {
   "cell_type": "code",
   "execution_count": 6,
   "metadata": {
    "collapsed": false
   },
   "outputs": [
    {
     "name": "stdout",
     "output_type": "stream",
     "text": [
      "[ 8 27 -1] [ 23.7781122   88.25661077  -0.36787944]\n"
     ]
    }
   ],
   "source": [
    "from numpy import *\n",
    "\n",
    "vec = array([2,3,-1])\n",
    "\n",
    "fv = array([f(xi) for xi in vec])\n",
    "\n",
    "def f(x):\n",
    "    return x**3 + x*exp(x) + 1\n",
    "\n",
    "print fv, f(vec)"
   ]
  },
  {
   "cell_type": "markdown",
   "metadata": {},
   "source": [
    "## <span style=\"color:blue\">Exercise 3: Simulate by hand a vectorized expression</span>\n",
    "Suppose *x* and *t* are two arrays of the same length, entering a vectorized expression:"
   ]
  },
  {
   "cell_type": "code",
   "execution_count": 7,
   "metadata": {
    "collapsed": false
   },
   "outputs": [
    {
     "ename": "NameError",
     "evalue": "name 't' is not defined",
     "output_type": "error",
     "traceback": [
      "\u001b[1;31m---------------------------------------------------------------------------\u001b[0m",
      "\u001b[1;31mNameError\u001b[0m                                 Traceback (most recent call last)",
      "\u001b[1;32m<ipython-input-7-99660397c55b>\u001b[0m in \u001b[0;36m<module>\u001b[1;34m()\u001b[0m\n\u001b[1;32m----> 1\u001b[1;33m \u001b[0my\u001b[0m \u001b[1;33m=\u001b[0m \u001b[0mcos\u001b[0m\u001b[1;33m(\u001b[0m\u001b[0msin\u001b[0m\u001b[1;33m(\u001b[0m\u001b[0mx\u001b[0m\u001b[1;33m)\u001b[0m\u001b[1;33m)\u001b[0m \u001b[1;33m+\u001b[0m \u001b[0mexp\u001b[0m\u001b[1;33m(\u001b[0m\u001b[1;36m1\u001b[0m\u001b[1;33m/\u001b[0m\u001b[0mt\u001b[0m\u001b[1;33m)\u001b[0m\u001b[1;33m\u001b[0m\u001b[0m\n\u001b[0m",
      "\u001b[1;31mNameError\u001b[0m: name 't' is not defined"
     ]
    }
   ],
   "source": [
    "y = cos(sin(x)) + exp(1/t)"
   ]
  },
  {
   "cell_type": "markdown",
   "metadata": {},
   "source": [
    "If *x* holds two elements, 0 and 2, and *t* holds the elements 1 and 1.5, calculate by hand (using a calculator) the *y* array. Thereafter, write a program that mimics the series of computations you did by hand (use explicit loops, but at the end you can use NumPy functionality to check the results)."
   ]
  },
  {
   "cell_type": "code",
   "execution_count": 15,
   "metadata": {
    "collapsed": false
   },
   "outputs": [
    {
     "name": "stdout",
     "output_type": "stream",
     "text": [
      "[ 3.71828183  2.94773404  3.33258211  2.56203432]\n"
     ]
    }
   ],
   "source": [
    "def y(x,t):\n",
    "    return cos(sin(x)) + exp(1/t)\n",
    "\n",
    "x = array([0.,2.])\n",
    "t = array([1.,1.5])\n",
    "\n",
    "yarray = array([y(a,b) for a in x for b in t])\n",
    "\n",
    "print yarray"
   ]
  },
  {
   "cell_type": "markdown",
   "metadata": {},
   "source": [
    "##Generalised array indexing\n",
    "We can select a slice of an array using *a[start:stop:inc]*, where the slice *start:stop:inc* implies a set of indices starting from *start*, up to *stop* in increments of *inc*. In fact, any integer list or array can be used to indicate a set of indices:"
   ]
  },
  {
   "cell_type": "code",
   "execution_count": 12,
   "metadata": {
    "collapsed": false
   },
   "outputs": [
    {
     "name": "stdout",
     "output_type": "stream",
     "text": [
      "[ 1.  2.  3.  4.  5.  6.  7.  8.]\n"
     ]
    }
   ],
   "source": [
    "a = linspace(1, 8, 8)\n",
    "print a"
   ]
  },
  {
   "cell_type": "code",
   "execution_count": 13,
   "metadata": {
    "collapsed": false,
    "scrolled": true
   },
   "outputs": [
    {
     "name": "stdout",
     "output_type": "stream",
     "text": [
      "[  1.  10.   3.   4.   5.   6.  10.  10.]\n"
     ]
    }
   ],
   "source": [
    "a[[1,6,7]] = 10 # i.e. set the elements with indicies 1,6, and 7 in the list to 10.\n",
    "print a"
   ]
  },
  {
   "cell_type": "code",
   "execution_count": 14,
   "metadata": {
    "collapsed": false
   },
   "outputs": [
    {
     "name": "stdout",
     "output_type": "stream",
     "text": [
      "[  1.  10.  -2.   4.   5.  -2.  10.  10.]\n"
     ]
    }
   ],
   "source": [
    "a[range(2,8,3)] = -2   # same as a[2:8:3] = -2\n",
    "print a"
   ]
  },
  {
   "cell_type": "markdown",
   "metadata": {},
   "source": [
    "Even boolean expressions can also be used to select part of an array(!)"
   ]
  },
  {
   "cell_type": "code",
   "execution_count": 15,
   "metadata": {
    "collapsed": false
   },
   "outputs": [
    {
     "name": "stdout",
     "output_type": "stream",
     "text": [
      "[-2. -2.]\n"
     ]
    }
   ],
   "source": [
    "print a[a < 0] # pick out all negative elements"
   ]
  },
  {
   "cell_type": "code",
   "execution_count": 16,
   "metadata": {
    "collapsed": false
   },
   "outputs": [
    {
     "name": "stdout",
     "output_type": "stream",
     "text": [
      "[  1.  10.  10.   4.   5.  10.  10.  10.]\n"
     ]
    }
   ],
   "source": [
    "a[a < 0] = a.max() # if a[i]<0, set a[i]=10\n",
    "print a"
   ]
  },
  {
   "cell_type": "markdown",
   "metadata": {},
   "source": [
    "## <span style=\"color:blue\">Exercise 4: Demonstrate array slicing</span>\n",
    "Create an array *w* with values 0, 0.1, 0.2, ..., 3. Write out *w[:]*, *w[:-2]*, *w[::5]*, *w[2:-2:6]*. Convince yourself in each case that you understand which elements of the array are printed."
   ]
  },
  {
   "cell_type": "code",
   "execution_count": 31,
   "metadata": {
    "collapsed": false
   },
   "outputs": [
    {
     "name": "stdout",
     "output_type": "stream",
     "text": [
      "0.3\n"
     ]
    }
   ],
   "source": [
    "n = 31\n",
    "dx = 1.0/(n-1)\n",
    "\n",
    "w = [(i*dx)*3 for i in range(n)]\n",
    "\n",
    "print \"%.1f\" % w[3]"
   ]
  },
  {
   "cell_type": "markdown",
   "metadata": {},
   "source": [
    "## Plotting curves - the basics\n",
    "First of all, a little house keeping. There are quite a few ways of plotting graphs etc. in Python. Currently the best way is using [PyLab](http://wiki.scipy.org/PyLab). The most important PyLab functions come from the `pyplot` module and are [documented here](http://matplotlib.org/api/pyplot_api.html). Secondly, because we are doing this within IPython NoteBook, and we do not want additional windows popping up all over the place, we execute this next line:"
   ]
  },
  {
   "cell_type": "code",
   "execution_count": 4,
   "metadata": {
    "collapsed": false
   },
   "outputs": [
    {
     "name": "stdout",
     "output_type": "stream",
     "text": [
      "Populating the interactive namespace from numpy and matplotlib\n"
     ]
    },
    {
     "name": "stderr",
     "output_type": "stream",
     "text": [
      "WARNING: pylab import has clobbered these variables: ['f', 'info', 'linalg', 'draw_if_interactive', 'random', 'fft', 'power']\n",
      "`%matplotlib` prevents importing * from pylab and numpy\n"
     ]
    }
   ],
   "source": [
    "%pylab inline"
   ]
  },
  {
   "cell_type": "markdown",
   "metadata": {},
   "source": [
    "Now, onwards and upwards...\n",
    "\n",
    "A curve $y = f(x)$ stored in the 1D NumPy arrays *x* and *y* can easily be plotted:"
   ]
  },
  {
   "cell_type": "code",
   "execution_count": 70,
   "metadata": {
    "collapsed": false
   },
   "outputs": [
    {
     "data": {
      "image/png": "[encoded data removed]",
      "text/plain": [
       "<matplotlib.figure.Figure at 0x7f1f41b9a510>"
      ]
     },
     "metadata": {},
     "output_type": "display_data"
    }
   ],
   "source": [
    "from pylab import *\n",
    "t = linspace(0, 3, 51)\n",
    "y = t**2*exp(-t**2)\n",
    "plot(t, y)\n",
    "show()"
   ]
  },
  {
   "cell_type": "markdown",
   "metadata": {},
   "source": [
    "Plots also should have **labels** on the axis, a **title**, and sometimes a specific extent of the axis (perhaps you wish to easily compare two graphs side-by-side):"
   ]
  },
  {
   "cell_type": "code",
   "execution_count": 69,
   "metadata": {
    "collapsed": false
   },
   "outputs": [
    {
     "data": {
      "image/png": "[encoded data removed]",
      "text/plain": [
       "<matplotlib.figure.Figure at 0x7f1f41be7a10>"
      ]
     },
     "metadata": {},
     "output_type": "display_data"
    }
   ],
   "source": [
    "def f(t):\n",
    "    return t**2*exp(-t**2)\n",
    "\n",
    "t = linspace(0, 3, 51) # Generates 51 points between 0 and 3\n",
    "y = f(t)\n",
    "plot(t, y)\n",
    "\n",
    "xlabel('t')\n",
    "ylabel('y')\n",
    "legend(('t^2*exp(-t^2)',))\n",
    "axis([0, 3, -0.05, 0.6]) # specify the extent of the axes [tmin, tmax, ymin, ymax]\n",
    "\n",
    "title('My second PyLab graph')\n",
    "show()"
   ]
  },
  {
   "cell_type": "markdown",
   "metadata": {},
   "source": [
    "## <span style=\"color:blue\">Exercise 5: Plot a formula</span>\n",
    "* Make a plot of the function $y(t) = v_0t − 0.5gt^2$ for $v_0 = 10$, $g = 9.81$, and $t \\in [0, 2v_0/g]$. The label on the *x* axis should be 'time (s)' and the label on the *y* axis should be 'height (m)'.\n",
    "* Extend the program such that the minimum and maximum *x* and *y* values are computed, and use the extreme values to specify the extent of the *x* and *y* axes. Add some space above the heighest curve."
   ]
  },
  {
   "cell_type": "code",
   "execution_count": 5,
   "metadata": {
    "collapsed": false
   },
   "outputs": [
    {
     "data": {
      "image/png": "[encoded data removed]",
      "text/plain": [
       "<matplotlib.figure.Figure at 0x7f2cd24b82d0>"
      ]
     },
     "metadata": {},
     "output_type": "display_data"
    }
   ],
   "source": [
    "from pylab import *\n",
    "\n",
    "v0 = 10\n",
    "g = 9.81\n",
    "\n",
    "t = linspace(0,2*v0/g)\n",
    "\n",
    "def y(t):\n",
    "    return v0*t - 0.5*g*t**2\n",
    "\n",
    "f = y(t)\n",
    "plot(t, f)\n",
    "\n",
    "xlabel('t')\n",
    "ylabel('y(t)')\n",
    "legend(('v0*t - 0.5*g*t**2',))\n",
    "\n",
    "title('My PyLab graph')\n",
    "show()"
   ]
  },
  {
   "cell_type": "markdown",
   "metadata": {},
   "source": [
    "## <span style=\"color:blue\">Exercise 6: Plot another formula</span>\n",
    "The function</br></br>\n",
    "$f(x, t) = \\exp(-(x - 3t)^2)\\sin(3\\pi(x - t))$\n",
    "</br></br>\n",
    "describes, for a fixed value of *t*, a wave localized in space. Make a program that visualizes this function as a function of *x* on the interval [−4, 4] when *t* = 0."
   ]
  },
  {
   "cell_type": "code",
   "execution_count": 72,
   "metadata": {
    "collapsed": false
   },
   "outputs": [
    {
     "data": {
      "image/png": "[encoded data removed]",
      "text/plain": [
       "<matplotlib.figure.Figure at 0x7f1f3e34f590>"
      ]
     },
     "metadata": {},
     "output_type": "display_data"
    }
   ],
   "source": [
    "def f(x,t):\n",
    "    return exp(-(x-3*t)**2)*sin(3*pi*(x-t))\n",
    "\n",
    "x = linspace(-4,4)\n",
    "t = 0\n",
    "\n",
    "y = f(x,t)\n",
    "\n",
    "plot(x,y)\n",
    "show()\n"
   ]
  },
  {
   "cell_type": "markdown",
   "metadata": {},
   "source": [
    "# Multiple curves in one plot\n",
    "We can also plot several curves in one plot:"
   ]
  },
  {
   "cell_type": "code",
   "execution_count": 20,
   "metadata": {
    "collapsed": false
   },
   "outputs": [
    {
     "data": {
      "image/png": "[encoded data removed]",
      "text/plain": [
       "<matplotlib.figure.Figure at 0x2f60810>"
      ]
     },
     "metadata": {},
     "output_type": "display_data"
    }
   ],
   "source": [
    "def f1(t):\n",
    "    return t**2*exp(-t**2)\n",
    "\n",
    "def f2(t):\n",
    "    return t**2*f1(t)\n",
    "\n",
    "t = linspace(0, 3, 51)\n",
    "y1 = f1(t)\n",
    "y2 = f2(t)\n",
    "\n",
    "# Matlab-style syntax:\n",
    "plots = plot(t, y1, t, y2)\n",
    "legend(plots, ('t^4*exp(-t^2)', 't^4*exp(-t^2)'), loc='best')\n",
    "xlabel('t')\n",
    "ylabel('y')\n",
    "title('Plotting two curves in the same plot')\n",
    "show()"
   ]
  },
  {
   "cell_type": "markdown",
   "metadata": {},
   "source": [
    "When plotting multiple curves in the same plot, PyLab usually does a good job in making sure that the different lines actually look different. However, sometimes you need to take action yourself (*e.g.* if you need to print your graph out in black&white). To do this we can add an extra argument to the plot command where we specify what we want - *e.g.* \"r-\" means a *red line*, while \"bo\" means *blue circles*:"
   ]
  },
  {
   "cell_type": "code",
   "execution_count": 21,
   "metadata": {
    "collapsed": false
   },
   "outputs": [
    {
     "data": {
      "image/png": "[encoded data removed]",
      "text/plain": [
       "<matplotlib.figure.Figure at 0x2f539d0>"
      ]
     },
     "metadata": {},
     "output_type": "display_data"
    }
   ],
   "source": [
    "plot(t, y1, 'r-', t, y2, 'bo')\n",
    "show()"
   ]
  },
  {
   "cell_type": "markdown",
   "metadata": {},
   "source": [
    "For further examples check out the [PyLab website](http://scipy.org/PyLab)."
   ]
  },
  {
   "cell_type": "markdown",
   "metadata": {},
   "source": [
    "## <span style=\"color:blue\">Exercise 7: Plot a formula for several parameters</span>\n",
    "Make a program that reads a set of $v_0$ values using raw_input and plots the corresponding curves $y(t) = v_0t − 0.5gt^2$ in the same figure (set $g = 9.81$). Let $t \\in [0, 2v_0/g$] for each curve, which implies that you need a different vector of $t$ coordinates for each curve."
   ]
  },
  {
   "cell_type": "code",
   "execution_count": 16,
   "metadata": {
    "collapsed": false
   },
   "outputs": [
    {
     "data": {
      "image/png": "[encoded data removed]",
      "text/plain": [
       "<matplotlib.figure.Figure at 0x7f2cec6709d0>"
      ]
     },
     "metadata": {},
     "output_type": "display_data"
    }
   ],
   "source": [
    "g = 9.81\n",
    "\n",
    "def y(t,v0):\n",
    "    return v0*t - 0.5*g*t**2\n",
    "\n",
    "v01 = 10\n",
    "v02 = 20\n",
    "\n",
    "t1 = linspace(0, 2.*v01/g, 101)\n",
    "t2 = linspace(0, 2.*v02/g, 101)\n",
    "y1 = y(t1, v01)\n",
    "y2 = y(t2, v02)\n",
    "\n",
    "# Matlab-style syntax:\n",
    "plots = plot(t1, y1, t2, y2)\n",
    "legend(plots, ('y1', 'y2'), loc='best')\n",
    "xlabel('t')\n",
    "ylabel('y')\n",
    "title('Plotting two curves in the same plot')\n",
    "show()"
   ]
  },
  {
   "cell_type": "markdown",
   "metadata": {},
   "source": [
    "##2D arrays\n",
    "When we have a table of numbers,\n",
    "\n",
    "$$\n",
    "\\left\\lbrack\\begin{array}{cccc}\n",
    "0 & 12 & -1 & 5\\cr\n",
    "-1 & -1 & -1 & 0\\cr\n",
    "11 & 5 & 5 & -2\n",
    "\\end{array}\\right\\rbrack\n",
    "$$\n",
    "\n",
    "(*i.e.* a *matrix*) it is natural to use a two-dimensional array $A_{i,j}$ with one index for the rows and one for the columns:\n",
    "\n",
    "$$\n",
    "A = \n",
    "\\left\\lbrack\\begin{array}{ccc}\n",
    "A_{0,0} & \\cdots &  A_{0,n-1}\\cr\n",
    "\\vdots & \\ddots &  \\vdots\\cr\n",
    "A_{m-1,0} & \\cdots & A_{m-1,n-1}\n",
    "\\end{array}\\right\\rbrack\n",
    "$$\n",
    "\n",
    "Let's recreate this array using NumPy:"
   ]
  },
  {
   "cell_type": "code",
   "execution_count": 22,
   "metadata": {
    "collapsed": false
   },
   "outputs": [
    {
     "name": "stdout",
     "output_type": "stream",
     "text": [
      "[[  0.  12.  -1.   5.]\n",
      " [ -1.  -1.  -1.   0.]\n",
      " [ 11.   5.   5.  -2.]]\n"
     ]
    }
   ],
   "source": [
    "A = zeros((3,4))\n",
    "A[0,0] = 0\n",
    "A[1,0] = -1\n",
    "A[2,0] = 11\n",
    "\n",
    "A[0,1] = 12\n",
    "A[1,1] = -1\n",
    "A[2,1] = 5\n",
    "\n",
    "A[0,2] = -1\n",
    "A[1,2] = -1\n",
    "A[2,2] = 5\n",
    "\n",
    "# we can also use the same syntax that we used for nested lists\n",
    "\n",
    "A[0][3] = 5\n",
    "A[1][3] = 0\n",
    "A[2][3] = -2\n",
    "\n",
    "print A"
   ]
  },
  {
   "cell_type": "markdown",
   "metadata": {},
   "source": [
    "Next let's convert a nested list from a previous example into a 2D array:"
   ]
  },
  {
   "cell_type": "code",
   "execution_count": 23,
   "metadata": {
    "collapsed": false
   },
   "outputs": [
    {
     "name": "stdout",
     "output_type": "stream",
     "text": [
      "[[0, 32.0], [10, 50.0], [20, 68.0], [30, 86.0], [40, 104.0], [50, 122.0], [60, 140.0], [70, 158.0], [80, 176.0], [90, 194.0], [100, 212.0]]\n"
     ]
    }
   ],
   "source": [
    "Cdegrees = range(0, 101, 10)\n",
    "Fdegrees = [9./5*C + 32 for C in Cdegrees]\n",
    "table = [[C, F] for C, F in zip(Cdegrees, Fdegrees)]\n",
    "print table"
   ]
  },
  {
   "cell_type": "code",
   "execution_count": 24,
   "metadata": {
    "collapsed": false
   },
   "outputs": [
    {
     "name": "stdout",
     "output_type": "stream",
     "text": [
      "[[   0.   32.]\n",
      " [  10.   50.]\n",
      " [  20.   68.]\n",
      " [  30.   86.]\n",
      " [  40.  104.]\n",
      " [  50.  122.]\n",
      " [  60.  140.]\n",
      " [  70.  158.]\n",
      " [  80.  176.]\n",
      " [  90.  194.]\n",
      " [ 100.  212.]]\n"
     ]
    }
   ],
   "source": [
    "# Convert this into a NumPy array:\n",
    "table2 = array(table)\n",
    "print table2"
   ]
  },
  {
   "cell_type": "markdown",
   "metadata": {},
   "source": [
    "To see the number of elements in each dimension:"
   ]
  },
  {
   "cell_type": "code",
   "execution_count": 25,
   "metadata": {
    "collapsed": false
   },
   "outputs": [
    {
     "name": "stdout",
     "output_type": "stream",
     "text": [
      "(11, 2)\n"
     ]
    }
   ],
   "source": [
    "print table2.shape"
   ]
  },
  {
   "cell_type": "markdown",
   "metadata": {},
   "source": [
    "*i.e.* 11 rows and 2 columns.\n",
    "\n",
    "Let's write a loop over all array elements of A:"
   ]
  },
  {
   "cell_type": "code",
   "execution_count": 26,
   "metadata": {
    "collapsed": false
   },
   "outputs": [
    {
     "name": "stdout",
     "output_type": "stream",
     "text": [
      "table2[0,0] = 0\n",
      "table2[0,1] = 32\n",
      "table2[1,0] = 10\n",
      "table2[1,1] = 50\n",
      "table2[2,0] = 20\n",
      "table2[2,1] = 68\n",
      "table2[3,0] = 30\n",
      "table2[3,1] = 86\n",
      "table2[4,0] = 40\n",
      "table2[4,1] = 104\n",
      "table2[5,0] = 50\n",
      "table2[5,1] = 122\n",
      "table2[6,0] = 60\n",
      "table2[6,1] = 140\n",
      "table2[7,0] = 70\n",
      "table2[7,1] = 158\n",
      "table2[8,0] = 80\n",
      "table2[8,1] = 176\n",
      "table2[9,0] = 90\n",
      "table2[9,1] = 194\n",
      "table2[10,0] = 100\n",
      "table2[10,1] = 212\n"
     ]
    }
   ],
   "source": [
    "for i in range(table2.shape[0]):\n",
    "    for j in range(table2.shape[1]):\n",
    "        print 'table2[%d,%d] = %g' % (i, j, table2[i,j])"
   ]
  },
  {
   "cell_type": "markdown",
   "metadata": {},
   "source": [
    "Alternatively:"
   ]
  },
  {
   "cell_type": "code",
   "execution_count": 27,
   "metadata": {
    "collapsed": false
   },
   "outputs": [
    {
     "name": "stdout",
     "output_type": "stream",
     "text": [
      "index (0, 0) has value 0\n",
      "index (0, 1) has value 32\n",
      "index (1, 0) has value 10\n",
      "index (1, 1) has value 50\n",
      "index (2, 0) has value 20\n",
      "index (2, 1) has value 68\n",
      "index (3, 0) has value 30\n",
      "index (3, 1) has value 86\n",
      "index (4, 0) has value 40\n",
      "index (4, 1) has value 104\n",
      "index (5, 0) has value 50\n",
      "index (5, 1) has value 122\n",
      "index (6, 0) has value 60\n",
      "index (6, 1) has value 140\n",
      "index (7, 0) has value 70\n",
      "index (7, 1) has value 158\n",
      "index (8, 0) has value 80\n",
      "index (8, 1) has value 176\n",
      "index (9, 0) has value 90\n",
      "index (9, 1) has value 194\n",
      "index (10, 0) has value 100\n",
      "index (10, 1) has value 212\n"
     ]
    }
   ],
   "source": [
    "for index_tuple, value in ndenumerate(table2):\n",
    "    print 'index %s has value %g' % (index_tuple, table2[index_tuple])"
   ]
  },
  {
   "cell_type": "markdown",
   "metadata": {},
   "source": [
    "We can also extract slices from multi-dimensional arrays as before. For example, extract the second column:"
   ]
  },
  {
   "cell_type": "code",
   "execution_count": 28,
   "metadata": {
    "collapsed": false
   },
   "outputs": [
    {
     "name": "stdout",
     "output_type": "stream",
     "text": [
      "[  32.   50.   68.   86.  104.  122.  140.  158.  176.  194.  212.]\n"
     ]
    }
   ],
   "source": [
    "print table2[:, 1] # 2nd column (index 1)"
   ]
  },
  {
   "cell_type": "markdown",
   "metadata": {},
   "source": [
    "Play with this more complicated example:"
   ]
  },
  {
   "cell_type": "code",
   "execution_count": 29,
   "metadata": {
    "collapsed": false
   },
   "outputs": [
    {
     "name": "stdout",
     "output_type": "stream",
     "text": [
      "[[  1.   2.   3.   4.   5.   6.]\n",
      " [  7.   8.   9.  10.  11.  12.]\n",
      " [ 13.  14.  15.  16.  17.  18.]\n",
      " [ 19.  20.  21.  22.  23.  24.]\n",
      " [ 25.  26.  27.  28.  29.  30.]]\n"
     ]
    }
   ],
   "source": [
    "t = linspace(1, 30, 30).reshape(5, 6)\n",
    "print t"
   ]
  },
  {
   "cell_type": "code",
   "execution_count": 30,
   "metadata": {
    "collapsed": false
   },
   "outputs": [
    {
     "name": "stdout",
     "output_type": "stream",
     "text": [
      "[[  9.  10.  11.  12.]\n",
      " [ 21.  22.  23.  24.]]\n"
     ]
    }
   ],
   "source": [
    "print t[1:-1:2, 2:]"
   ]
  },
  {
   "cell_type": "markdown",
   "metadata": {},
   "source": [
    "## <span style=\"color:blue\">Exercise 8: Implement matrix-vector multiplication</span>\n",
    "A matrix $\\mathbf{A}$ and a vector $\\mathbf{b}$, represented in Python as a 2D array and a 1D array respectively, are given by:\n",
    "\n",
    "$$\n",
    "\\mathbf{A} = \\left\\lbrack\\begin{array}{ccc}\n",
    "0 & 12 & -1\\cr\n",
    "-1 & -1 & -1\\cr\n",
    "11 & 5 & 5\n",
    "\\end{array}\\right\\rbrack\n",
    "$$\n",
    "\n",
    "$$\n",
    "\\mathbf{b} = \\left\\lbrack\\begin{array}{c}\n",
    "-2\\cr\n",
    "1\\cr\n",
    "7\n",
    "\\end{array}\\right\\rbrack\n",
    "$$\n",
    "\n",
    "Multiplying a matrix by a vector results in another vector $\\mathbf{c}$, whose components are defined by the general rule\n",
    "\n",
    "$$\\mathbf{c}_i = \\sum_j\\mathbf{A}_{i,j}\\mathbf{b}_j$$\n",
    "\n",
    "Define $\\mathbf{A}$ and $\\mathbf{b}$ as NumPy arrays, and multiply them together using the above rule."
   ]
  },
  {
   "cell_type": "code",
   "execution_count": 31,
   "metadata": {
    "collapsed": false
   },
   "outputs": [
    {
     "name": "stdout",
     "output_type": "stream",
     "text": [
      "[  5.  -6.  18.]\n"
     ]
    }
   ],
   "source": [
    "A = [[0, 12, -1],[-1, -1, -1],[11, 5, 5]]\n",
    "A = array(A)\n",
    "\n",
    "b = array([-2, 1, 7])\n",
    "n = size(b)\n",
    "\n",
    "c = zeros(n)\n",
    "\n",
    "for i in range(0,n):\n",
    "    for j in range(0,n):\n",
    "        c[i] += A[i][j]*b[j]\n",
    "    \n",
    "print c"
   ]
  },
  {
   "cell_type": "code",
   "execution_count": null,
   "metadata": {
    "collapsed": true
   },
   "outputs": [],
   "source": []
  }
 ],
 "metadata": {
  "kernelspec": {
   "display_name": "Python 2",
   "language": "python",
   "name": "python2"
  },
  "language_info": {
   "codemirror_mode": {
    "name": "ipython",
    "version": 2
   },
   "file_extension": ".py",
   "mimetype": "text/x-python",
   "name": "python",
   "nbconvert_exporter": "python",
   "pygments_lexer": "ipython2",
   "version": "2.7.6"
  }
 },
 "nbformat": 4,
 "nbformat_minor": 0
}
